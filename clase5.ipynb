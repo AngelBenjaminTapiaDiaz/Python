{
  "nbformat": 4,
  "nbformat_minor": 0,
  "metadata": {
    "colab": {
      "provenance": []
    },
    "kernelspec": {
      "name": "python3",
      "display_name": "Python 3"
    },
    "language_info": {
      "name": "python"
    }
  },
  "cells": [
    {
      "cell_type": "markdown",
      "source": [
        "Clase 5"
      ],
      "metadata": {
        "id": "iX1KNSyb9PyZ"
      }
    },
    {
      "cell_type": "markdown",
      "source": [
        "dar forma a las salidas de impresiones"
      ],
      "metadata": {
        "id": "FQcng8JT9WOL"
      }
    },
    {
      "cell_type": "code",
      "source": [
        "AA = 13\n",
        "BB = 'Trece'\n",
        "print (\"los valores son :\", AA, BB)"
      ],
      "metadata": {
        "id": "3kLNXkTA9bxS"
      },
      "execution_count": null,
      "outputs": []
    },
    {
      "cell_type": "code",
      "source": [
        "CC = 14 DD = \"Comida\"\n",
        "print (f\"el valor de la variable es: {CC} y el valos de la otra variable es: {DD}\")"
      ],
      "metadata": {
        "id": "XEZnkROr9jj8"
      },
      "execution_count": null,
      "outputs": []
    },
    {
      "cell_type": "code",
      "source": [
        "N = 'Angel'\n",
        "E = 18\n",
        "print (\"Hola,mucho gusto mi nombre es {} y tengo {} años\".format(N,E))"
      ],
      "metadata": {
        "id": "I4GaZuW79jZ0"
      },
      "execution_count": null,
      "outputs": []
    },
    {
      "cell_type": "code",
      "source": [
        "N = 'andres'\n",
        "E = 30\n",
        "print (\"Hola,mucho gusto mi nombre es %s y tengo %d años\"%(N,E))"
      ],
      "metadata": {
        "id": "mHZ0zzCA9qzk"
      },
      "execution_count": null,
      "outputs": []
    },
    {
      "cell_type": "markdown",
      "source": [
        "caracteres de escape"
      ],
      "metadata": {
        "id": "DReJVF1P9snE"
      }
    },
    {
      "cell_type": "code",
      "source": [
        "#usando el \\r\n",
        "print (\"me levante tarde hoy,\\r llegue Tarde a la clase de algoritmos\")"
      ],
      "metadata": {
        "id": "9tdEqCA29zG4"
      },
      "execution_count": null,
      "outputs": []
    },
    {
      "cell_type": "code",
      "source": [
        "print (\"me levante a las 6:45 am, \\r y me \\\"tome\\\" un tinto\")"
      ],
      "metadata": {
        "id": "-UpHMRok90um"
      },
      "execution_count": null,
      "outputs": []
    },
    {
      "cell_type": "code",
      "source": [
        "print (\"En términos de programación, un algoritmo es una secuencia de pasos lógicos que permiten solucionar un problema. Por ejemplo: si perdemos el acceso a una cuenta nos dan una serie de pasos para poder identificarla y así recuperarla o borrarla, \\r que desarrollándose de \\\"una\\\" manera efectiva y lógica, \\t lograrán un \\n resultado determinado.\")"
      ],
      "metadata": {
        "id": "7hbWST1w9603"
      },
      "execution_count": null,
      "outputs": []
    },
    {
      "cell_type": "markdown",
      "source": [
        "operadores matematicos y variables flotantes"
      ],
      "metadata": {
        "id": "vWhn2BeM-A-A"
      }
    },
    {
      "cell_type": "code",
      "source": [
        "Num_1 = 10\n",
        "Num_2 = 50\n",
        "resta = Num_1 - Num_2\n",
        "print(f\"el resultado de la resta entre el numero {Num_1} y el numero {Num_2} \\n el resultado es: {resta} y el tipo de variable es: {type(resta)}\")"
      ],
      "metadata": {
        "id": "guiYMlDc-Bqp"
      },
      "execution_count": null,
      "outputs": []
    },
    {
      "cell_type": "code",
      "execution_count": null,
      "metadata": {
        "id": "cuWHyDf89Oh8"
      },
      "outputs": [],
      "source": []
    }
  ]
}