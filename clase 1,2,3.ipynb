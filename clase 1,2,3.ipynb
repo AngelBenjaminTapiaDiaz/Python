{
  "nbformat": 4,
  "nbformat_minor": 0,
  "metadata": {
    "colab": {
      "provenance": []
    },
    "kernelspec": {
      "name": "python3",
      "display_name": "Python 3"
    },
    "language_info": {
      "name": "python"
    }
  },
  "cells": [
    {
      "cell_type": "markdown",
      "source": [
        "clase 1"
      ],
      "metadata": {
        "id": "ozjnGyrJaHhY"
      }
    },
    {
      "cell_type": "code",
      "execution_count": null,
      "metadata": {
        "id": "gd1PScheZzSJ"
      },
      "outputs": [],
      "source": [
        "A = 40\n",
        "B = 10\n",
        "# Comparación\n",
        "if(A>B):\n",
        "    print(\"Es mayor \",A)\n",
        "else:\n",
        "    print(\"Es mayor \", B)"
      ]
    },
    {
      "cell_type": "markdown",
      "source": [
        "Clase 2"
      ],
      "metadata": {
        "id": "YtTOWi20ahWO"
      }
    },
    {
      "cell_type": "code",
      "source": [
        "# tipos de variables\n",
        "A = \"Carlos\" #variable de tipo cadena de texto\n",
        "Carlos = 12 #variable de tipo entero\n",
        "otro = 1.79\n",
        "deporte = False #booleano"
      ],
      "metadata": {
        "id": "5lU42Od8ag-v"
      },
      "execution_count": null,
      "outputs": []
    },
    {
      "cell_type": "code",
      "source": [
        "#funsion type ()        Investigar el tipo de datos que tiene una variable\n",
        "type (A)"
      ],
      "metadata": {
        "colab": {
          "base_uri": "https://localhost:8080/"
        },
        "id": "AinoMhaqarjm",
        "outputId": "6f3579cb-2aed-47fa-a402-e36aa567dc2e"
      },
      "execution_count": null,
      "outputs": [
        {
          "output_type": "execute_result",
          "data": {
            "text/plain": [
              "str"
            ]
          },
          "metadata": {},
          "execution_count": 4
        }
      ]
    },
    {
      "cell_type": "code",
      "source": [
        "#funcion para ver el tipo de dato\n",
        "type (Carlos)"
      ],
      "metadata": {
        "colab": {
          "base_uri": "https://localhost:8080/"
        },
        "id": "4ixPd5iMbE7d",
        "outputId": "c66fce40-5f30-495b-fc02-affba5087539"
      },
      "execution_count": null,
      "outputs": [
        {
          "output_type": "execute_result",
          "data": {
            "text/plain": [
              "int"
            ]
          },
          "metadata": {},
          "execution_count": 6
        }
      ]
    },
    {
      "cell_type": "code",
      "source": [
        "type (otro)"
      ],
      "metadata": {
        "colab": {
          "base_uri": "https://localhost:8080/"
        },
        "id": "j_Z93JXxccut",
        "outputId": "6f462434-ca19-4ebe-8a60-1949ba8d2611"
      },
      "execution_count": null,
      "outputs": [
        {
          "output_type": "execute_result",
          "data": {
            "text/plain": [
              "float"
            ]
          },
          "metadata": {},
          "execution_count": 7
        }
      ]
    },
    {
      "cell_type": "code",
      "source": [
        "type (deporte)"
      ],
      "metadata": {
        "colab": {
          "base_uri": "https://localhost:8080/"
        },
        "id": "cFeR0wdFcldt",
        "outputId": "9bddc3ba-6c60-4e5e-c969-438d4a3a2c40"
      },
      "execution_count": null,
      "outputs": [
        {
          "output_type": "execute_result",
          "data": {
            "text/plain": [
              "bool"
            ]
          },
          "metadata": {},
          "execution_count": 8
        }
      ]
    },
    {
      "cell_type": "markdown",
      "source": [
        "Clase 3"
      ],
      "metadata": {
        "id": "H58hLTpZorkx"
      }
    },
    {
      "cell_type": "code",
      "source": [
        "A = 5\n",
        "a = \"cinco\"\n",
        "b = True\n",
        "c = 17,3\n",
        "D = [\"juan\",\"c\"]\n",
        "B = (2,3,7)\n",
        "E = {SP : 7}\n",
        "print (B)"
      ],
      "metadata": {
        "colab": {
          "base_uri": "https://localhost:8080/",
          "height": 193
        },
        "id": "GG-dUH-iotT5",
        "outputId": "85995b16-5451-4db3-dac9-f2fd48b84433"
      },
      "execution_count": null,
      "outputs": [
        {
          "output_type": "error",
          "ename": "NameError",
          "evalue": "name 'SP' is not defined",
          "traceback": [
            "\u001b[0;31m---------------------------------------------------------------------------\u001b[0m",
            "\u001b[0;31mNameError\u001b[0m                                 Traceback (most recent call last)",
            "\u001b[0;32m<ipython-input-8-73792af9572e>\u001b[0m in \u001b[0;36m<cell line: 0>\u001b[0;34m()\u001b[0m\n\u001b[1;32m      5\u001b[0m \u001b[0mD\u001b[0m \u001b[0;34m=\u001b[0m \u001b[0;34m[\u001b[0m\u001b[0;34m\"juan\"\u001b[0m\u001b[0;34m,\u001b[0m\u001b[0;34m\"c\"\u001b[0m\u001b[0;34m]\u001b[0m\u001b[0;34m\u001b[0m\u001b[0;34m\u001b[0m\u001b[0m\n\u001b[1;32m      6\u001b[0m \u001b[0mB\u001b[0m \u001b[0;34m=\u001b[0m \u001b[0;34m(\u001b[0m\u001b[0;36m2\u001b[0m\u001b[0;34m,\u001b[0m\u001b[0;36m3\u001b[0m\u001b[0;34m,\u001b[0m\u001b[0;36m7\u001b[0m\u001b[0;34m)\u001b[0m\u001b[0;34m\u001b[0m\u001b[0;34m\u001b[0m\u001b[0m\n\u001b[0;32m----> 7\u001b[0;31m \u001b[0mE\u001b[0m \u001b[0;34m=\u001b[0m \u001b[0;34m{\u001b[0m\u001b[0mSP\u001b[0m \u001b[0;34m:\u001b[0m \u001b[0;36m7\u001b[0m\u001b[0;34m}\u001b[0m\u001b[0;34m\u001b[0m\u001b[0;34m\u001b[0m\u001b[0m\n\u001b[0m\u001b[1;32m      8\u001b[0m \u001b[0mprint\u001b[0m \u001b[0;34m(\u001b[0m\u001b[0mB\u001b[0m\u001b[0;34m)\u001b[0m\u001b[0;34m\u001b[0m\u001b[0;34m\u001b[0m\u001b[0m\n",
            "\u001b[0;31mNameError\u001b[0m: name 'SP' is not defined"
          ]
        }
      ]
    },
    {
      "cell_type": "code",
      "source": [
        "#tupla (osea que son inmutables / no cambian)\n",
        "type (B)"
      ],
      "metadata": {
        "colab": {
          "base_uri": "https://localhost:8080/"
        },
        "id": "ScgQtcn5p5B2",
        "outputId": "786ed525-d8ad-4170-952a-a070f88720b5"
      },
      "execution_count": null,
      "outputs": [
        {
          "output_type": "execute_result",
          "data": {
            "text/plain": [
              "tuple"
            ]
          },
          "metadata": {},
          "execution_count": 5
        }
      ]
    },
    {
      "cell_type": "code",
      "source": [
        "print(\"la variable es:\", type (5473))\n",
        "print(\"la variable es:\",type (12.4))\n",
        "print(\"la variable es:\",type (True))\n",
        "print(\"la variable es:\",type (\"holamundo\"))"
      ],
      "metadata": {
        "colab": {
          "base_uri": "https://localhost:8080/"
        },
        "id": "RoUnIsgErdHn",
        "outputId": "a5f69970-8014-46d9-f32b-397cd471bd8b"
      },
      "execution_count": null,
      "outputs": [
        {
          "output_type": "stream",
          "name": "stdout",
          "text": [
            "la variable es: <class 'int'>\n",
            "la variable es: <class 'float'>\n",
            "la variable es: <class 'bool'>\n",
            "la variable es: <class 'str'>\n"
          ]
        }
      ]
    },
    {
      "cell_type": "markdown",
      "source": [
        "variables que almacenen multiples datos"
      ],
      "metadata": {
        "id": "SwL87cu94jQj"
      }
    },
    {
      "cell_type": "code",
      "source": [
        "#declaracion de creacion de una tupla\n",
        "No_Modificable= (1,2,3,4)\n",
        "print (\"la variable es de tipo\", type(No_Modificable))"
      ],
      "metadata": {
        "colab": {
          "base_uri": "https://localhost:8080/"
        },
        "id": "EAqZ7haG5ePy",
        "outputId": "e149f3c5-f5ef-48e3-ff20-c38af6e10c7f"
      },
      "execution_count": null,
      "outputs": [
        {
          "output_type": "stream",
          "name": "stdout",
          "text": [
            "la variable es de tipo <class 'tuple'>\n"
          ]
        }
      ]
    },
    {
      "cell_type": "code",
      "source": [
        "#creacion de una lista\n",
        "Lista = [1,3,2,5]\n",
        "print (\"la variable es de tipo\", type(Lista))"
      ],
      "metadata": {
        "colab": {
          "base_uri": "https://localhost:8080/"
        },
        "id": "Nf3dx4uD5wvZ",
        "outputId": "6b9c30ad-0f94-4f99-ccc9-84bb8a923431"
      },
      "execution_count": null,
      "outputs": [
        {
          "output_type": "stream",
          "name": "stdout",
          "text": [
            "la variable es de tipo <class 'list'>\n"
          ]
        }
      ]
    },
    {
      "cell_type": "code",
      "source": [
        "#creacion de un diccionario\n",
        "diccionario = {\n",
        "    \"angel\":112524,\n",
        "    \"andres\":134230,\n",
        "    \"cristian\":253494,\n",
        "    \"arialdo\":299482,\n",
        "    \"esteban\":123456,\n",
        "    \"jesus\":283923,\n",
        "    \"elsa\":849283,\n",
        "    \"ariam\":289349\n",
        "}\n",
        "print (\"la variable es de tipo\", type(diccionario))\n",
        "print (diccionario)"
      ],
      "metadata": {
        "colab": {
          "base_uri": "https://localhost:8080/"
        },
        "id": "jW4LpuS07I9u",
        "outputId": "4d45decb-c07f-4d56-e961-5a848d38ba0c"
      },
      "execution_count": null,
      "outputs": [
        {
          "output_type": "stream",
          "name": "stdout",
          "text": [
            "la variable es de tipo <class 'dict'>\n",
            "{'angel': 112524, 'andres': 134230, 'cristian': 253494, 'arialdo': 299482, 'esteban': 123456, 'jesus': 283923, 'elsa': 849283, 'ariam': 289349}\n"
          ]
        }
      ]
    },
    {
      "cell_type": "code",
      "source": [
        "#dataset\n",
        "import pandas as pd #importar libreria pandas\n",
        "datos = {\n",
        "    \"nombre\":[\"angel\",\"andres\",\"cristian\",\"arialdo\",\"esteban\",\"jesus\",\"elsa\",\"ariam\"],\n",
        "    \"edad\":[25,20,22,28,20,21,29,26],\n",
        "    \"ciudad\":[\"tolima\",\"bogota\",\"cali\",\"medellin\",\"bogota\",\"yopal\",\"bogota\",\"barranquilla\"],\n",
        "    \"altura\":[1.70,1.80,1.75,1.67,1.54,1.66,1.78,1.69],\n",
        "    \"identificacion\":[112524,134230,253494,299482,123456,283923,849283,289349],\n",
        "    \"deporte_fav\":[\"basket\",\"futbol\",\"basket\",\"futbol\",\"basket\",\"handball\",\"futbol\",\"voley\"],\n",
        "    \"trabajo\":[\"estudiante\",\"delivery\",\"estudiante\",\"Oficina\",\"doctor\",\"maestro\",\"estudiante\",\"programador\"]\n",
        "    \"pais\":[\"colombia\",\"colombia\",\"colombia\",\"colombia\",\"colombia\",\"colombia\",\"colombia\",\"colombia\"]\n",
        "    \"numero_tele\n",
        "}\n",
        "#crear un dataframe\n",
        "dataframe = pd.DataFrame(datos)\n",
        "print (\"la variable es de tipo:\", type(dataframe))\n",
        "print (dataframe)\n"
      ],
      "metadata": {
        "colab": {
          "base_uri": "https://localhost:8080/"
        },
        "id": "D0VBn31g-jjQ",
        "outputId": "aa4f92d6-8bd3-4fd9-98fe-c6c7f3d4f176"
      },
      "execution_count": null,
      "outputs": [
        {
          "output_type": "stream",
          "name": "stdout",
          "text": [
            "la variable es de tipo: <class 'pandas.core.frame.DataFrame'>\n",
            "     nombre  edad        ciudad  altura  identificacion deporte_fav  \\\n",
            "0     angel    25        tolima    1.70          112524      basket   \n",
            "1    andres    20        bogota    1.80          134230      futbol   \n",
            "2  cristian    22          cali    1.75          253494      basket   \n",
            "3   arialdo    28      medellin    1.67          299482      futbol   \n",
            "4   esteban    20        bogota    1.54          123456      basket   \n",
            "5     jesus    21         yopal    1.66          283923    handball   \n",
            "6      elsa    29        bogota    1.78          849283      futbol   \n",
            "7     ariam    26  barranquilla    1.69          289349       voley   \n",
            "\n",
            "       trabajo  \n",
            "0   estudiante  \n",
            "1     delivery  \n",
            "2   estudiante  \n",
            "3      Oficina  \n",
            "4       doctor  \n",
            "5      maestro  \n",
            "6   estudiante  \n",
            "7  programador  \n"
          ]
        }
      ]
    },
    {
      "cell_type": "markdown",
      "source": [
        "clase #5"
      ],
      "metadata": {
        "id": "kGQ2Bq1H51-3"
      }
    },
    {
      "cell_type": "markdown",
      "source": [
        "dar forma a las salidas de impresiones"
      ],
      "metadata": {
        "id": "pFazI7vp58ze"
      }
    },
    {
      "cell_type": "code",
      "source": [
        "AA = 13\n",
        "BB = 'Trece'\n",
        "print (\"los valores son :\", AA, BB)"
      ],
      "metadata": {
        "colab": {
          "base_uri": "https://localhost:8080/"
        },
        "id": "pKE8J-Yi6AZV",
        "outputId": "a5ee396a-52b8-47fc-c4c1-2b8a1ba88055"
      },
      "execution_count": null,
      "outputs": [
        {
          "output_type": "stream",
          "name": "stdout",
          "text": [
            "los valores son : 13 Trece\n"
          ]
        }
      ]
    },
    {
      "cell_type": "code",
      "source": [
        "CC = 14\n",
        "DD = \"Comida\"\n",
        "print (f\"el valor de la variable es: {CC} y el valos de la otra variable es: {DD}\")"
      ],
      "metadata": {
        "colab": {
          "base_uri": "https://localhost:8080/"
        },
        "id": "Drkm9BOZ6uOd",
        "outputId": "a63ef14b-ebc7-4a8e-894e-c2c6e37866af"
      },
      "execution_count": null,
      "outputs": [
        {
          "output_type": "stream",
          "name": "stdout",
          "text": [
            "el valor de la variable es: 14 y el valos de la otra variable es: Comida\n"
          ]
        }
      ]
    },
    {
      "cell_type": "code",
      "source": [
        "N = 'Angel'\n",
        "E = 18\n",
        "print (\"Hola,mucho gusto mi nombre es {} y tengo {} años\".format(N,E))"
      ],
      "metadata": {
        "colab": {
          "base_uri": "https://localhost:8080/"
        },
        "id": "o3K1piKm8KoG",
        "outputId": "25cdb13b-1e47-4f43-f885-18a12ac3f660"
      },
      "execution_count": null,
      "outputs": [
        {
          "output_type": "stream",
          "name": "stdout",
          "text": [
            "Hola,mucho gusto mi nombre es Angel y tengo 18 años\n"
          ]
        }
      ]
    },
    {
      "cell_type": "code",
      "source": [
        "N = 'andres'\n",
        "E = 30\n",
        "print (\"Hola,mucho gusto mi nombre es %s y tengo %d años\"%(N,E))"
      ],
      "metadata": {
        "colab": {
          "base_uri": "https://localhost:8080/"
        },
        "id": "aj-aUbJf9bYf",
        "outputId": "f394c43a-8e18-4d71-9dd8-a9330a9ea4e9"
      },
      "execution_count": null,
      "outputs": [
        {
          "output_type": "stream",
          "name": "stdout",
          "text": [
            "Hola,mucho gusto mi nombre es andres y tengo 30 años\n"
          ]
        }
      ]
    },
    {
      "cell_type": "markdown",
      "source": [
        "caracteres de escape"
      ],
      "metadata": {
        "id": "vYn-sMe9B_E4"
      }
    },
    {
      "cell_type": "code",
      "source": [
        "#usando el \\r\n",
        "print (\"me levante tarde hoy,\\r llegue Tarde a la clase de algoritmos\")\n"
      ],
      "metadata": {
        "colab": {
          "base_uri": "https://localhost:8080/"
        },
        "id": "yUkMP8meCCe-",
        "outputId": "34dbf992-9f52-4eaa-b28d-df816a3c4add"
      },
      "execution_count": null,
      "outputs": [
        {
          "output_type": "stream",
          "name": "stdout",
          "text": [
            "me levante tarde hoy,\r llegue Tarde a la clase de algoritmos\n"
          ]
        }
      ]
    },
    {
      "cell_type": "code",
      "source": [
        "print (\"me levante a las 6:45 am, \\r y me \\\"tome\\\" un tinto\")"
      ],
      "metadata": {
        "colab": {
          "base_uri": "https://localhost:8080/"
        },
        "id": "J5yTuEOpCZfb",
        "outputId": "ba2f3915-edf1-475f-d5d4-658384d8604e"
      },
      "execution_count": null,
      "outputs": [
        {
          "output_type": "stream",
          "name": "stdout",
          "text": [
            "me levante a las 6:45 am, \r y me \"tome\" un tinto\n"
          ]
        }
      ]
    },
    {
      "cell_type": "code",
      "source": [
        "print (\"En términos de programación, un algoritmo es una secuencia de pasos lógicos que permiten solucionar un problema. Por ejemplo: si perdemos el acceso a una cuenta nos dan una serie de pasos para poder identificarla y así recuperarla o borrarla, \\r que desarrollándose de \\\"una\\\" manera efectiva y lógica, \\t lograrán un \\n resultado determinado.\")"
      ],
      "metadata": {
        "colab": {
          "base_uri": "https://localhost:8080/"
        },
        "id": "kMOz13L_Gw-K",
        "outputId": "44dbfdbf-1474-4007-c0b0-bfd4c9fb40af"
      },
      "execution_count": null,
      "outputs": [
        {
          "output_type": "stream",
          "name": "stdout",
          "text": [
            "En términos de programación, un algoritmo es una secuencia de pasos lógicos que permiten solucionar un problema. Por ejemplo: si perdemos el acceso a una cuenta nos dan una serie de pasos para poder identificarla y así recuperarla o borrarla, \r que desarrollándose de \"una\" manera efectiva y lógica, \t lograrán un \n",
            " resultado determinado.\n"
          ]
        }
      ]
    },
    {
      "cell_type": "markdown",
      "source": [
        "operadores matematicos y variables flotantes"
      ],
      "metadata": {
        "id": "p3-DLFNVIVEc"
      }
    },
    {
      "cell_type": "code",
      "source": [
        "\n",
        "Num_1 = 10\n",
        "Num_2 = 50\n",
        "resta = Num_1 - Num_2\n",
        "print(f\"el resultado de la resta entre el numero {Num_1} y el numero {Num_2} \\n el resultado es: {resta} y el tipo de variable es: {type(resta)}\")\n"
      ],
      "metadata": {
        "colab": {
          "base_uri": "https://localhost:8080/"
        },
        "id": "FqJttgiFIZk8",
        "outputId": "58667da4-e85a-4552-d347-d9e9f7c149bc"
      },
      "execution_count": null,
      "outputs": [
        {
          "output_type": "stream",
          "name": "stdout",
          "text": [
            "el resultado de la resta entre el numero 10 y el numero 50 \n",
            " el resultado es: -40 y el tipo de variable es: <class 'int'>\n"
          ]
        }
      ]
    },
    {
      "cell_type": "code",
      "source": [],
      "metadata": {
        "id": "XWFoxqB0pPOy"
      },
      "execution_count": null,
      "outputs": []
    }
  ]
}