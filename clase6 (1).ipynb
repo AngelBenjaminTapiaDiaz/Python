{
  "nbformat": 4,
  "nbformat_minor": 0,
  "metadata": {
    "colab": {
      "provenance": []
    },
    "kernelspec": {
      "name": "python3",
      "display_name": "Python 3"
    },
    "language_info": {
      "name": "python"
    }
  },
  "cells": [
    {
      "cell_type": "markdown",
      "source": [
        "clase 6"
      ],
      "metadata": {
        "id": "Cfr6rG2_biZB"
      }
    },
    {
      "cell_type": "code",
      "source": [
        "#define una funcion llamada ordenamientoporinsercion que recibe una lista (unalista) como parametro\n",
        "def ordenamientoporinsercion(unalista):\n",
        "  #un ciclo que recorre la lista desde el indice 1 hasta el final:\n",
        "  for indice in range(1,len(unalista)):\n",
        "    #guarda el valor del elemento actual que queremos insertar en su lugar correcto:\n",
        "    valoractual = unalista[indice]\n",
        "    #guarda la posicion actual, que puede ir cambiando si el valor necesita moverse hacia la izquierda\n",
        "    posicion = indice\n",
        "    #este bucle while se encarga de mover los elementos mayores de valoractual una posicion a la derecha, haciendo espacio parainsertar valoractual en la posicion correcta\n",
        "    while posicion>0 and unalista[posicion-1]>valoractual:\n",
        "      unalista[posicion]=unalista[posicion-1]\n",
        "      posicion = posicion-1\n",
        "      #una vez encontrado el lugar correcto, se inserta valoractual en la posicion adecuada de una lista\n",
        "      unalista[posicion]=valoractual\n",
        "\n",
        "\n",
        "#aqui se crea una lista desordenada\n",
        "unalista = [54,26,93,17,77,31,44,55,20]\n",
        "ordenamientoporinsercion(unalista)\n",
        "print (unalista)"
      ],
      "metadata": {
        "colab": {
          "base_uri": "https://localhost:8080/"
        },
        "id": "y9K27ZPIMSJV",
        "outputId": "40a44192-eb78-447c-9160-bb2f7625e0ea"
      },
      "execution_count": 3,
      "outputs": [
        {
          "output_type": "stream",
          "name": "stdout",
          "text": [
            "[17, 20, 26, 31, 44, 54, 55, 77, 93]\n"
          ]
        }
      ]
    },
    {
      "cell_type": "code",
      "source": [
        "# Definimos la función \"ordenamientoPorSeleccion\" que recibe una lista como parámetro\n",
        "def ordenamientoPorSeleccion(unaLista):\n",
        "    # Recorremos la lista desde el final hacia el principio\n",
        "    for llenarRanura in range(len(unaLista)-1, 0, -1):\n",
        "        # Suponemos que el mayor valor está en la primera posición\n",
        "        posicionDelMayor = 0\n",
        "        # Buscamos el valor más grande entre la posición 0 y llenarRanura\n",
        "        for ubicacion in range(1, llenarRanura + 1):\n",
        "            # Si encontramos un valor mayor, actualizamos la posición del mayor\n",
        "            if unaLista[ubicacion] > unaLista[posicionDelMayor]:\n",
        "                posicionDelMayor = ubicacion\n",
        "\n",
        "        # Intercambiamos el mayor valor encontrado con el valor en la posición llenarRanura\n",
        "        temp = unaLista[llenarRanura]\n",
        "        unaLista[llenarRanura] = unaLista[posicionDelMayor]\n",
        "        unaLista[posicionDelMayor] = temp\n",
        "\n",
        "# Creamos una lista desordenada\n",
        "unaLista = [54, 26, 93, 17, 77, 31, 44, 55, 20]\n",
        "# Llamamos a la función para ordenar la lista\n",
        "ordenamientoPorSeleccion(unaLista)\n",
        "\n",
        "# Imprimimos la lista ya ordenada\n",
        "print(unaLista)"
      ],
      "metadata": {
        "id": "Khc8qkTYbgMK"
      },
      "execution_count": null,
      "outputs": []
    },
    {
      "cell_type": "code",
      "execution_count": null,
      "metadata": {
        "id": "3uX_jt7YLylR"
      },
      "outputs": [],
      "source": []
    }
  ]
}